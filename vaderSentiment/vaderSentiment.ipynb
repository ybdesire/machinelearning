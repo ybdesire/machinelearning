{
 "cells": [
  {
   "cell_type": "markdown",
   "id": "3bf554cf",
   "metadata": {},
   "source": [
    "# 1. ref\n",
    "\n",
    "* github: https://github.com/cjhutto/vaderSentiment\n",
    "* paper: http://comp.social.gatech.edu/papers/icwsm14.vader.hutto.pdf\n",
    "* example: https://blog.csdn.net/fucaijin/article/details/105920814"
   ]
  },
  {
   "cell_type": "code",
   "execution_count": 8,
   "id": "4006217b",
   "metadata": {},
   "outputs": [
    {
     "name": "stdout",
     "output_type": "stream",
     "text": [
      "Not bad at all:{'neg': 0.0, 'neu': 0.444, 'pos': 0.556, 'compound': 0.3612}\n"
     ]
    }
   ],
   "source": [
    "from vaderSentiment.vaderSentiment import SentimentIntensityAnalyzer\n",
    "analyzer = SentimentIntensityAnalyzer()\n",
    "vs = analyzer.polarity_scores('I like you')\n",
    "print(\"{0}:{1}\".format(sentence, str(vs)))"
   ]
  }
 ],
 "metadata": {
  "kernelspec": {
   "display_name": "Python 3 (ipykernel)",
   "language": "python",
   "name": "python3"
  },
  "language_info": {
   "codemirror_mode": {
    "name": "ipython",
    "version": 3
   },
   "file_extension": ".py",
   "mimetype": "text/x-python",
   "name": "python",
   "nbconvert_exporter": "python",
   "pygments_lexer": "ipython3",
   "version": "3.7.5"
  }
 },
 "nbformat": 4,
 "nbformat_minor": 5
}
